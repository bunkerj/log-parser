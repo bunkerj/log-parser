{
 "cells": [
  {
   "cell_type": "code",
   "execution_count": null,
   "metadata": {},
   "outputs": [],
   "source": [
    "import pandas as pd\n",
    "import matplotlib.pyplot as plt\n",
    "from scipy.stats import wilcoxon\n",
    "\n",
    "plt.rcParams['figure.figsize'] = (16,8)"
   ]
  },
  {
   "cell_type": "code",
   "execution_count": null,
   "metadata": {},
   "outputs": [],
   "source": [
    "data_df = pd.read_csv(r'C:\\Users\\Justin\\Documents\\git\\log-parser\\results\\sample_impurities.csv')\n",
    "data_df.head()"
   ]
  },
  {
   "cell_type": "code",
   "execution_count": null,
   "metadata": {},
   "outputs": [],
   "source": [
    "for idx, dataset in enumerate(data_df['name'].unique()):\n",
    "    dataset_df = data_df[data_df['name'] == dataset]\n",
    "\n",
    "    plt.subplot(4, 4, idx + 1)\n",
    "    plt.scatter(dataset_df['percentage_labeled'], dataset_df['lab_impurity'], c='red')\n",
    "    plt.scatter(dataset_df['percentage_labeled'], dataset_df['unlab_impurity'], c='blue')\n",
    "    plt.title(dataset)\n",
    "    plt.xlabel('Label Percentage')\n",
    "    plt.ylabel('Impurity')\n",
    "    plt.grid()\n",
    "    if idx == 3:\n",
    "        plt.legend(['lab_impurity','unlab_impurity'])\n",
    "plt.show()"
   ]
  },
  {
   "cell_type": "code",
   "execution_count": null,
   "metadata": {},
   "outputs": [],
   "source": [
    "results = {\n",
    "    'name': [],\n",
    "    'percentage_labeled': [],\n",
    "    'wilcoxon_p_value': [],\n",
    "}\n",
    "\n",
    "for dataset in data_df['name'].unique():\n",
    "    dataset_filter = data_df['name'] == dataset\n",
    "    dataset_df = data_df[dataset_filter]\n",
    "    for p_label in data_df.percentage_labeled.unique():\n",
    "        if p_label == 0:\n",
    "            continue\n",
    "        p_label_filter = dataset_df['percentage_labeled'] == p_label\n",
    "        dataset_p_label_df = dataset_df[p_label_filter]\n",
    "\n",
    "        diff_df = dataset_p_label_df['lab_impurity'] - dataset_p_label_df['unlab_impurity']\n",
    "        _, p = wilcoxon(diff_df)\n",
    "        results['name'].append(dataset)\n",
    "        results['percentage_labeled'].append(p_label)\n",
    "        results['wilcoxon_p_value'].append(p)\n",
    "        \n",
    "results_df = pd.DataFrame(results)"
   ]
  },
  {
   "cell_type": "code",
   "execution_count": null,
   "metadata": {},
   "outputs": [],
   "source": [
    "results_df.describe()[['wilcoxon_p_value']]"
   ]
  },
  {
   "cell_type": "code",
   "execution_count": null,
   "metadata": {},
   "outputs": [],
   "source": [
    "results_df.sort_values(by='wilcoxon_p_value', ascending=False).head(10).reset_index(drop=True)"
   ]
  }
 ],
 "metadata": {
  "kernelspec": {
   "display_name": "Python 3",
   "language": "python",
   "name": "python3"
  },
  "language_info": {
   "codemirror_mode": {
    "name": "ipython",
    "version": 3
   },
   "file_extension": ".py",
   "mimetype": "text/x-python",
   "name": "python",
   "nbconvert_exporter": "python",
   "pygments_lexer": "ipython3",
   "version": "3.7.4"
  }
 },
 "nbformat": 4,
 "nbformat_minor": 2
}
