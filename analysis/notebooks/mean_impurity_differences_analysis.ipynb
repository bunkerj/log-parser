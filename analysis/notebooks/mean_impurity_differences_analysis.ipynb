{
 "cells": [
  {
   "cell_type": "code",
   "execution_count": 1,
   "metadata": {},
   "outputs": [],
   "source": [
    "import sys; sys.path.append('../../')\n",
    "import numpy as np\n",
    "import pandas as pd\n",
    "import xgboost as xgb\n",
    "import statsmodels.api as sm\n",
    "import matplotlib.pyplot as plt\n",
    "import statsmodels.graphics.api as smg\n",
    "from warnings import filterwarnings\n",
    "from scipy import stats\n",
    "from scipy.stats import loguniform\n",
    "from sklearn.model_selection import RandomizedSearchCV\n",
    "from sklearn.linear_model import Lasso, LinearRegression\n",
    "from sklearn.model_selection import cross_val_score\n",
    "from sklearn.pipeline import make_pipeline, Pipeline\n",
    "from sklearn.preprocessing import StandardScaler\n",
    "from analysis.constants import VOCAB_SIZE\n",
    "from graphs.utils import plot_morris_method_graph\n",
    "from analysis.utils import get_sa_problem\n",
    "from SALib.sample.morris import sample\n",
    "from SALib.analyze.morris import analyze\n",
    "from statsmodels.stats.outliers_influence import variance_inflation_factor as vif\n",
    "\n",
    "filterwarnings('ignore')"
   ]
  },
  {
   "cell_type": "markdown",
   "metadata": {},
   "source": [
    "# Data Initialization"
   ]
  },
  {
   "cell_type": "code",
   "execution_count": 2,
   "metadata": {},
   "outputs": [],
   "source": [
    "DATASET_PROPERTIES_PATH = r'..\\..\\results\\dataset_properties.csv'\n",
    "IMPURITY_DIFF_PATH = r'..\\..\\results\\impurity_differences.csv'"
   ]
  },
  {
   "cell_type": "code",
   "execution_count": 3,
   "metadata": {},
   "outputs": [
    {
     "data": {
      "text/html": [
       "<div>\n",
       "<style scoped>\n",
       "    .dataframe tbody tr th:only-of-type {\n",
       "        vertical-align: middle;\n",
       "    }\n",
       "\n",
       "    .dataframe tbody tr th {\n",
       "        vertical-align: top;\n",
       "    }\n",
       "\n",
       "    .dataframe thead th {\n",
       "        text-align: right;\n",
       "    }\n",
       "</style>\n",
       "<table border=\"1\" class=\"dataframe\">\n",
       "  <thead>\n",
       "    <tr style=\"text-align: right;\">\n",
       "      <th></th>\n",
       "      <th>name</th>\n",
       "      <th>vocab_size</th>\n",
       "      <th>true_cluster_count</th>\n",
       "      <th>token_count_avg_entropy_a1</th>\n",
       "      <th>token_count_avg_entropy_a0</th>\n",
       "      <th>token_count_sum_entropy</th>\n",
       "      <th>token_count_flat_entropy</th>\n",
       "      <th>intra_cluster_spread</th>\n",
       "      <th>inter_cluster_spread</th>\n",
       "      <th>silhouette_score</th>\n",
       "      <th>calinski_harabasz_score</th>\n",
       "      <th>davies_bouldin_score</th>\n",
       "    </tr>\n",
       "  </thead>\n",
       "  <tbody>\n",
       "    <tr>\n",
       "      <td>0</td>\n",
       "      <td>Android</td>\n",
       "      <td>524</td>\n",
       "      <td>166</td>\n",
       "      <td>1.150983</td>\n",
       "      <td>1.617744</td>\n",
       "      <td>4.953394</td>\n",
       "      <td>9.119025</td>\n",
       "      <td>0.071262</td>\n",
       "      <td>2.114244</td>\n",
       "      <td>0.940220</td>\n",
       "      <td>731.321987</td>\n",
       "      <td>0.470526</td>\n",
       "    </tr>\n",
       "    <tr>\n",
       "      <td>1</td>\n",
       "      <td>Apache</td>\n",
       "      <td>25</td>\n",
       "      <td>6</td>\n",
       "      <td>1.596729</td>\n",
       "      <td>4.931979</td>\n",
       "      <td>2.629490</td>\n",
       "      <td>9.243098</td>\n",
       "      <td>0.000000</td>\n",
       "      <td>1.694940</td>\n",
       "      <td>1.000000</td>\n",
       "      <td>1.000000</td>\n",
       "      <td>0.000000</td>\n",
       "    </tr>\n",
       "    <tr>\n",
       "      <td>2</td>\n",
       "      <td>BGL</td>\n",
       "      <td>712</td>\n",
       "      <td>120</td>\n",
       "      <td>1.110366</td>\n",
       "      <td>1.272794</td>\n",
       "      <td>5.166454</td>\n",
       "      <td>9.111435</td>\n",
       "      <td>0.260080</td>\n",
       "      <td>2.025537</td>\n",
       "      <td>0.839777</td>\n",
       "      <td>281.297632</td>\n",
       "      <td>0.454874</td>\n",
       "    </tr>\n",
       "    <tr>\n",
       "      <td>3</td>\n",
       "      <td>Hadoop</td>\n",
       "      <td>473</td>\n",
       "      <td>114</td>\n",
       "      <td>1.950064</td>\n",
       "      <td>1.270850</td>\n",
       "      <td>4.338157</td>\n",
       "      <td>9.630493</td>\n",
       "      <td>0.026865</td>\n",
       "      <td>2.588856</td>\n",
       "      <td>0.951416</td>\n",
       "      <td>4937.249012</td>\n",
       "      <td>0.399854</td>\n",
       "    </tr>\n",
       "    <tr>\n",
       "      <td>4</td>\n",
       "      <td>HDFS</td>\n",
       "      <td>44</td>\n",
       "      <td>14</td>\n",
       "      <td>1.639952</td>\n",
       "      <td>4.449821</td>\n",
       "      <td>3.257177</td>\n",
       "      <td>9.280811</td>\n",
       "      <td>0.062671</td>\n",
       "      <td>2.060039</td>\n",
       "      <td>0.969571</td>\n",
       "      <td>13900.899798</td>\n",
       "      <td>0.281032</td>\n",
       "    </tr>\n",
       "    <tr>\n",
       "      <td>5</td>\n",
       "      <td>HealthApp</td>\n",
       "      <td>192</td>\n",
       "      <td>75</td>\n",
       "      <td>0.530275</td>\n",
       "      <td>1.302377</td>\n",
       "      <td>3.538048</td>\n",
       "      <td>8.261430</td>\n",
       "      <td>0.000000</td>\n",
       "      <td>1.289976</td>\n",
       "      <td>0.984500</td>\n",
       "      <td>1.000000</td>\n",
       "      <td>0.000000</td>\n",
       "    </tr>\n",
       "    <tr>\n",
       "      <td>6</td>\n",
       "      <td>HPC</td>\n",
       "      <td>145</td>\n",
       "      <td>46</td>\n",
       "      <td>0.781811</td>\n",
       "      <td>2.244330</td>\n",
       "      <td>3.975028</td>\n",
       "      <td>8.734961</td>\n",
       "      <td>0.033661</td>\n",
       "      <td>1.588820</td>\n",
       "      <td>0.984047</td>\n",
       "      <td>1110.685184</td>\n",
       "      <td>0.683617</td>\n",
       "    </tr>\n",
       "    <tr>\n",
       "      <td>7</td>\n",
       "      <td>Linux</td>\n",
       "      <td>445</td>\n",
       "      <td>118</td>\n",
       "      <td>1.825927</td>\n",
       "      <td>0.996809</td>\n",
       "      <td>3.865464</td>\n",
       "      <td>9.463753</td>\n",
       "      <td>0.826279</td>\n",
       "      <td>1.924308</td>\n",
       "      <td>0.471962</td>\n",
       "      <td>67.252098</td>\n",
       "      <td>0.463806</td>\n",
       "    </tr>\n",
       "  </tbody>\n",
       "</table>\n",
       "</div>"
      ],
      "text/plain": [
       "        name  vocab_size  true_cluster_count  token_count_avg_entropy_a1  \\\n",
       "0    Android         524                 166                    1.150983   \n",
       "1     Apache          25                   6                    1.596729   \n",
       "2        BGL         712                 120                    1.110366   \n",
       "3     Hadoop         473                 114                    1.950064   \n",
       "4       HDFS          44                  14                    1.639952   \n",
       "5  HealthApp         192                  75                    0.530275   \n",
       "6        HPC         145                  46                    0.781811   \n",
       "7      Linux         445                 118                    1.825927   \n",
       "\n",
       "   token_count_avg_entropy_a0  token_count_sum_entropy  \\\n",
       "0                    1.617744                 4.953394   \n",
       "1                    4.931979                 2.629490   \n",
       "2                    1.272794                 5.166454   \n",
       "3                    1.270850                 4.338157   \n",
       "4                    4.449821                 3.257177   \n",
       "5                    1.302377                 3.538048   \n",
       "6                    2.244330                 3.975028   \n",
       "7                    0.996809                 3.865464   \n",
       "\n",
       "   token_count_flat_entropy  intra_cluster_spread  inter_cluster_spread  \\\n",
       "0                  9.119025              0.071262              2.114244   \n",
       "1                  9.243098              0.000000              1.694940   \n",
       "2                  9.111435              0.260080              2.025537   \n",
       "3                  9.630493              0.026865              2.588856   \n",
       "4                  9.280811              0.062671              2.060039   \n",
       "5                  8.261430              0.000000              1.289976   \n",
       "6                  8.734961              0.033661              1.588820   \n",
       "7                  9.463753              0.826279              1.924308   \n",
       "\n",
       "   silhouette_score  calinski_harabasz_score  davies_bouldin_score  \n",
       "0          0.940220               731.321987              0.470526  \n",
       "1          1.000000                 1.000000              0.000000  \n",
       "2          0.839777               281.297632              0.454874  \n",
       "3          0.951416              4937.249012              0.399854  \n",
       "4          0.969571             13900.899798              0.281032  \n",
       "5          0.984500                 1.000000              0.000000  \n",
       "6          0.984047              1110.685184              0.683617  \n",
       "7          0.471962                67.252098              0.463806  "
      ]
     },
     "execution_count": 3,
     "metadata": {},
     "output_type": "execute_result"
    }
   ],
   "source": [
    "dataset_properties_df = pd.read_csv(DATASET_PROPERTIES_PATH)\n",
    "dataset_properties_df"
   ]
  },
  {
   "cell_type": "code",
   "execution_count": 4,
   "metadata": {},
   "outputs": [
    {
     "data": {
      "text/html": [
       "<div>\n",
       "<style scoped>\n",
       "    .dataframe tbody tr th:only-of-type {\n",
       "        vertical-align: middle;\n",
       "    }\n",
       "\n",
       "    .dataframe tbody tr th {\n",
       "        vertical-align: top;\n",
       "    }\n",
       "\n",
       "    .dataframe thead th {\n",
       "        text-align: right;\n",
       "    }\n",
       "</style>\n",
       "<table border=\"1\" class=\"dataframe\">\n",
       "  <thead>\n",
       "    <tr style=\"text-align: right;\">\n",
       "      <th></th>\n",
       "      <th>name</th>\n",
       "      <th>provided_labels_count</th>\n",
       "      <th>impurity_mean_diff</th>\n",
       "      <th>impurity_var_sum</th>\n",
       "    </tr>\n",
       "  </thead>\n",
       "  <tbody>\n",
       "    <tr>\n",
       "      <td>0</td>\n",
       "      <td>Android</td>\n",
       "      <td>0</td>\n",
       "      <td>0.000000</td>\n",
       "      <td>0.001186</td>\n",
       "    </tr>\n",
       "    <tr>\n",
       "      <td>1</td>\n",
       "      <td>Android</td>\n",
       "      <td>100</td>\n",
       "      <td>0.025551</td>\n",
       "      <td>0.001277</td>\n",
       "    </tr>\n",
       "    <tr>\n",
       "      <td>2</td>\n",
       "      <td>Android</td>\n",
       "      <td>200</td>\n",
       "      <td>0.041785</td>\n",
       "      <td>0.001043</td>\n",
       "    </tr>\n",
       "    <tr>\n",
       "      <td>3</td>\n",
       "      <td>Android</td>\n",
       "      <td>300</td>\n",
       "      <td>0.065523</td>\n",
       "      <td>0.000786</td>\n",
       "    </tr>\n",
       "    <tr>\n",
       "      <td>4</td>\n",
       "      <td>Android</td>\n",
       "      <td>400</td>\n",
       "      <td>0.081771</td>\n",
       "      <td>0.001152</td>\n",
       "    </tr>\n",
       "  </tbody>\n",
       "</table>\n",
       "</div>"
      ],
      "text/plain": [
       "      name  provided_labels_count  impurity_mean_diff  impurity_var_sum\n",
       "0  Android                      0            0.000000          0.001186\n",
       "1  Android                    100            0.025551          0.001277\n",
       "2  Android                    200            0.041785          0.001043\n",
       "3  Android                    300            0.065523          0.000786\n",
       "4  Android                    400            0.081771          0.001152"
      ]
     },
     "execution_count": 4,
     "metadata": {},
     "output_type": "execute_result"
    }
   ],
   "source": [
    "impurity_differences_df = pd.read_csv(IMPURITY_DIFF_PATH)\n",
    "impurity_differences_df.head()"
   ]
  },
  {
   "cell_type": "code",
   "execution_count": 5,
   "metadata": {},
   "outputs": [],
   "source": [
    "data_df = impurity_differences_df.merge(dataset_properties_df, on='name')\n",
    "data_df = data_df.sample(frac=1)\n",
    "X_df = data_df.drop(['name', 'impurity_mean_diff'], axis=1)\n",
    "y_df = data_df[['impurity_mean_diff']]"
   ]
  },
  {
   "cell_type": "markdown",
   "metadata": {},
   "source": [
    "# Data Plots"
   ]
  },
  {
   "cell_type": "code",
   "execution_count": 17,
   "metadata": {},
   "outputs": [
    {
     "data": {
      "image/png": "[encoded data removed]",
      "text/plain": [
       "<Figure size 432x288 with 2 Axes>"
      ]
     },
     "metadata": {
      "needs_background": "light"
     },
     "output_type": "display_data"
    }
   ],
   "source": [
    "corr_scores_df = dataset_properties_df[['silhouette_score', 'calinski_harabasz_score', 'davies_bouldin_score']]\n",
    "corr_scores_df['custom_score'] = (dataset_properties_df['inter_cluster_spread'] \n",
    "                                  / dataset_properties_df['intra_cluster_spread']).reset_index(drop=True)\n",
    "corr_scores_df = corr_scores_df[corr_scores_df['custom_score'] != np.inf]\n",
    "\n",
    "corr_scores_matrix = np.corrcoef(corr_scores_df.T)\n",
    "smg.plot_corr(corr_scores_matrix, corr_scores_df.columns)\n",
    "plt.show()"
   ]
  },
  {
   "cell_type": "code",
   "execution_count": 7,
   "metadata": {},
   "outputs": [
    {
     "data": {
      "image/png": "[encoded data removed]",
      "text/plain": [
       "<Figure size 432x288 with 2 Axes>"
      ]
     },
     "metadata": {
      "needs_background": "light"
     },
     "output_type": "display_data"
    }
   ],
   "source": [
    "corr_df = pd.concat([X_df, y_df], axis=1).reset_index(drop=True)\n",
    "corr_matrix_base = np.corrcoef(corr_df.T)\n",
    "smg.plot_corr(corr_matrix_base, corr_df.columns)\n",
    "plt.show()"
   ]
  },
  {
   "cell_type": "markdown",
   "metadata": {},
   "source": [
    "# Sensitivity Analysis"
   ]
  },
  {
   "cell_type": "code",
   "execution_count": 8,
   "metadata": {},
   "outputs": [],
   "source": [
    "X_train_dmatrix = xgb.DMatrix(X_df, y_df)\n",
    "\n",
    "num_round = 50\n",
    "param = {'max_depth':6, 'objective':'reg:squarederror' }\n",
    "bst = xgb.train(param, X_train_dmatrix, num_round)"
   ]
  },
  {
   "cell_type": "code",
   "execution_count": 9,
   "metadata": {},
   "outputs": [
    {
     "data": {
      "image/png": "[encoded data removed]",
      "text/plain": [
       "<Figure size 432x288 with 1 Axes>"
      ]
     },
     "metadata": {
      "needs_background": "light"
     },
     "output_type": "display_data"
    }
   ],
   "source": [
    "problem = get_sa_problem(X_df)\n",
    "inputs = sample(problem, 1000, num_levels=4)\n",
    "\n",
    "X_morris_df = pd.DataFrame(inputs, columns=X_df.columns)\n",
    "X_morris_dmatrix = xgb.DMatrix(X_morris_df)\n",
    "results = bst.predict(X_morris_dmatrix)\n",
    "\n",
    "sensitivity_indices = \\\n",
    "    analyze(problem,\n",
    "            inputs,\n",
    "            results,\n",
    "            conf_level=0.95,\n",
    "            num_levels=5)\n",
    "\n",
    "plot_morris_method_graph(sensitivity_indices, 'Impurity Differences')\n",
    "plt.show()"
   ]
  },
  {
   "cell_type": "code",
   "execution_count": 10,
   "metadata": {},
   "outputs": [
    {
     "data": {
      "text/plain": [
       "-0.0006679362426553323"
      ]
     },
     "execution_count": 10,
     "metadata": {},
     "output_type": "execute_result"
    }
   ],
   "source": [
    "bst_model = xgb.XGBRegressor(max_depth=6, num_round=50)\n",
    "bst_scores = cross_val_score(bst_model, X_df, y_df, cv=10, scoring='neg_mean_squared_error')\n",
    "bst_scores.mean()"
   ]
  },
  {
   "cell_type": "markdown",
   "metadata": {},
   "source": [
    "# Lasso"
   ]
  },
  {
   "cell_type": "code",
   "execution_count": 11,
   "metadata": {},
   "outputs": [
    {
     "name": "stdout",
     "output_type": "stream",
     "text": [
      "Fitting 10 folds for each of 1000 candidates, totalling 10000 fits\n"
     ]
    },
    {
     "name": "stderr",
     "output_type": "stream",
     "text": [
      "[Parallel(n_jobs=1)]: Using backend SequentialBackend with 1 concurrent workers.\n",
      "[Parallel(n_jobs=1)]: Done 10000 out of 10000 | elapsed:   45.0s finished\n"
     ]
    },
    {
     "data": {
      "text/plain": [
       "{'lasso__alpha': 0.005495341480075622}"
      ]
     },
     "execution_count": 11,
     "metadata": {},
     "output_type": "execute_result"
    }
   ],
   "source": [
    "pipe = make_pipeline(StandardScaler(), Lasso())\n",
    "\n",
    "param_dist = {'lasso__alpha': loguniform(1e-4, 2)}\n",
    "random_search = RandomizedSearchCV(pipe, scoring = 'neg_mean_squared_error', \n",
    "                                   param_distributions=param_dist,\n",
    "                                   n_iter=1000, cv=10, verbose=True)\n",
    "\n",
    "random_search.fit(X_df, y_df)\n",
    "random_search.best_params_"
   ]
  },
  {
   "cell_type": "code",
   "execution_count": 12,
   "metadata": {},
   "outputs": [
    {
     "data": {
      "text/html": [
       "<div>\n",
       "<style scoped>\n",
       "    .dataframe tbody tr th:only-of-type {\n",
       "        vertical-align: middle;\n",
       "    }\n",
       "\n",
       "    .dataframe tbody tr th {\n",
       "        vertical-align: top;\n",
       "    }\n",
       "\n",
       "    .dataframe thead th {\n",
       "        text-align: right;\n",
       "    }\n",
       "</style>\n",
       "<table border=\"1\" class=\"dataframe\">\n",
       "  <thead>\n",
       "    <tr style=\"text-align: right;\">\n",
       "      <th></th>\n",
       "      <th>coef_names</th>\n",
       "      <th>coef_values</th>\n",
       "    </tr>\n",
       "  </thead>\n",
       "  <tbody>\n",
       "    <tr>\n",
       "      <td>0</td>\n",
       "      <td>provided_labels_count</td>\n",
       "      <td>0.037387</td>\n",
       "    </tr>\n",
       "    <tr>\n",
       "      <td>1</td>\n",
       "      <td>impurity_var_sum</td>\n",
       "      <td>0.000000</td>\n",
       "    </tr>\n",
       "    <tr>\n",
       "      <td>2</td>\n",
       "      <td>vocab_size</td>\n",
       "      <td>0.000000</td>\n",
       "    </tr>\n",
       "    <tr>\n",
       "      <td>3</td>\n",
       "      <td>true_cluster_count</td>\n",
       "      <td>-0.000000</td>\n",
       "    </tr>\n",
       "    <tr>\n",
       "      <td>4</td>\n",
       "      <td>token_count_avg_entropy_a1</td>\n",
       "      <td>-0.020437</td>\n",
       "    </tr>\n",
       "    <tr>\n",
       "      <td>5</td>\n",
       "      <td>token_count_avg_entropy_a0</td>\n",
       "      <td>-0.006700</td>\n",
       "    </tr>\n",
       "    <tr>\n",
       "      <td>6</td>\n",
       "      <td>token_count_sum_entropy</td>\n",
       "      <td>0.000000</td>\n",
       "    </tr>\n",
       "    <tr>\n",
       "      <td>7</td>\n",
       "      <td>token_count_flat_entropy</td>\n",
       "      <td>-0.023948</td>\n",
       "    </tr>\n",
       "    <tr>\n",
       "      <td>8</td>\n",
       "      <td>intra_cluster_spread</td>\n",
       "      <td>0.000000</td>\n",
       "    </tr>\n",
       "    <tr>\n",
       "      <td>9</td>\n",
       "      <td>inter_cluster_spread</td>\n",
       "      <td>-0.000000</td>\n",
       "    </tr>\n",
       "    <tr>\n",
       "      <td>10</td>\n",
       "      <td>silhouette_score</td>\n",
       "      <td>-0.000000</td>\n",
       "    </tr>\n",
       "    <tr>\n",
       "      <td>11</td>\n",
       "      <td>calinski_harabasz_score</td>\n",
       "      <td>-0.000000</td>\n",
       "    </tr>\n",
       "    <tr>\n",
       "      <td>12</td>\n",
       "      <td>davies_bouldin_score</td>\n",
       "      <td>0.000000</td>\n",
       "    </tr>\n",
       "  </tbody>\n",
       "</table>\n",
       "</div>"
      ],
      "text/plain": [
       "                    coef_names  coef_values\n",
       "0        provided_labels_count     0.037387\n",
       "1             impurity_var_sum     0.000000\n",
       "2                   vocab_size     0.000000\n",
       "3           true_cluster_count    -0.000000\n",
       "4   token_count_avg_entropy_a1    -0.020437\n",
       "5   token_count_avg_entropy_a0    -0.006700\n",
       "6      token_count_sum_entropy     0.000000\n",
       "7     token_count_flat_entropy    -0.023948\n",
       "8         intra_cluster_spread     0.000000\n",
       "9         inter_cluster_spread    -0.000000\n",
       "10            silhouette_score    -0.000000\n",
       "11     calinski_harabasz_score    -0.000000\n",
       "12        davies_bouldin_score     0.000000"
      ]
     },
     "execution_count": 12,
     "metadata": {},
     "output_type": "execute_result"
    }
   ],
   "source": [
    "data = {\n",
    "    'coef_names': X_df.columns,\n",
    "    'coef_values': random_search.best_estimator_['lasso'].coef_,\n",
    "}\n",
    "\n",
    "coef_df = pd.DataFrame(data)\n",
    "coef_df"
   ]
  },
  {
   "cell_type": "markdown",
   "metadata": {},
   "source": [
    "# OLS"
   ]
  },
  {
   "cell_type": "code",
   "execution_count": 28,
   "metadata": {},
   "outputs": [
    {
     "data": {
      "text/html": [
       "<table class=\"simpletable\">\n",
       "<caption>OLS Regression Results</caption>\n",
       "<tr>\n",
       "  <th>Dep. Variable:</th>    <td>impurity_mean_diff</td> <th>  R-squared:         </th> <td>   0.888</td>\n",
       "</tr>\n",
       "<tr>\n",
       "  <th>Model:</th>                    <td>OLS</td>        <th>  Adj. R-squared:    </th> <td>   0.879</td>\n",
       "</tr>\n",
       "<tr>\n",
       "  <th>Method:</th>              <td>Least Squares</td>   <th>  F-statistic:       </th> <td>   100.7</td>\n",
       "</tr>\n",
       "<tr>\n",
       "  <th>Date:</th>              <td>Fri, 13 Mar 2020</td>  <th>  Prob (F-statistic):</th> <td>1.47e-23</td>\n",
       "</tr>\n",
       "<tr>\n",
       "  <th>Time:</th>                  <td>19:15:09</td>      <th>  Log-Likelihood:    </th> <td>  124.10</td>\n",
       "</tr>\n",
       "<tr>\n",
       "  <th>No. Observations:</th>       <td>    56</td>       <th>  AIC:               </th> <td>  -238.2</td>\n",
       "</tr>\n",
       "<tr>\n",
       "  <th>Df Residuals:</th>           <td>    51</td>       <th>  BIC:               </th> <td>  -228.1</td>\n",
       "</tr>\n",
       "<tr>\n",
       "  <th>Df Model:</th>               <td>     4</td>       <th>                     </th>     <td> </td>   \n",
       "</tr>\n",
       "<tr>\n",
       "  <th>Covariance Type:</th>       <td>nonrobust</td>     <th>                     </th>     <td> </td>   \n",
       "</tr>\n",
       "</table>\n",
       "<table class=\"simpletable\">\n",
       "<tr>\n",
       "                          <td></td>                            <th>coef</th>     <th>std err</th>      <th>t</th>      <th>P>|t|</th>  <th>[0.025</th>    <th>0.975]</th>  \n",
       "</tr>\n",
       "<tr>\n",
       "  <th>provided_labels_count</th>                            <td>    0.0007</td> <td> 5.45e-05</td> <td>   11.944</td> <td> 0.000</td> <td>    0.001</td> <td>    0.001</td>\n",
       "</tr>\n",
       "<tr>\n",
       "  <th>token_count_avg_entropy_a1</th>                       <td>   -0.1664</td> <td>    0.052</td> <td>   -3.185</td> <td> 0.002</td> <td>   -0.271</td> <td>   -0.061</td>\n",
       "</tr>\n",
       "<tr>\n",
       "  <th>intercept</th>                                        <td>    0.1044</td> <td>    0.033</td> <td>    3.131</td> <td> 0.003</td> <td>    0.037</td> <td>    0.171</td>\n",
       "</tr>\n",
       "<tr>\n",
       "  <th>token_count_avg_entropy_a1^2</th>                     <td>    0.0636</td> <td>    0.020</td> <td>    3.175</td> <td> 0.003</td> <td>    0.023</td> <td>    0.104</td>\n",
       "</tr>\n",
       "<tr>\n",
       "  <th>provided_labels_count*token_count_avg_entropy_a1</th> <td>   -0.0003</td> <td> 3.88e-05</td> <td>   -8.514</td> <td> 0.000</td> <td>   -0.000</td> <td>   -0.000</td>\n",
       "</tr>\n",
       "</table>\n",
       "<table class=\"simpletable\">\n",
       "<tr>\n",
       "  <th>Omnibus:</th>       <td> 0.200</td> <th>  Durbin-Watson:     </th> <td>   1.905</td>\n",
       "</tr>\n",
       "<tr>\n",
       "  <th>Prob(Omnibus):</th> <td> 0.905</td> <th>  Jarque-Bera (JB):  </th> <td>   0.288</td>\n",
       "</tr>\n",
       "<tr>\n",
       "  <th>Skew:</th>          <td> 0.132</td> <th>  Prob(JB):          </th> <td>   0.866</td>\n",
       "</tr>\n",
       "<tr>\n",
       "  <th>Kurtosis:</th>      <td> 2.769</td> <th>  Cond. No.          </th> <td>1.06e+04</td>\n",
       "</tr>\n",
       "</table><br/><br/>Warnings:<br/>[1] Standard Errors assume that the covariance matrix of the errors is correctly specified.<br/>[2] The condition number is large, 1.06e+04. This might indicate that there are<br/>strong multicollinearity or other numerical problems."
      ],
      "text/plain": [
       "<class 'statsmodels.iolib.summary.Summary'>\n",
       "\"\"\"\n",
       "                            OLS Regression Results                            \n",
       "==============================================================================\n",
       "Dep. Variable:     impurity_mean_diff   R-squared:                       0.888\n",
       "Model:                            OLS   Adj. R-squared:                  0.879\n",
       "Method:                 Least Squares   F-statistic:                     100.7\n",
       "Date:                Fri, 13 Mar 2020   Prob (F-statistic):           1.47e-23\n",
       "Time:                        19:15:09   Log-Likelihood:                 124.10\n",
       "No. Observations:                  56   AIC:                            -238.2\n",
       "Df Residuals:                      51   BIC:                            -228.1\n",
       "Df Model:                           4                                         \n",
       "Covariance Type:            nonrobust                                         \n",
       "====================================================================================================================\n",
       "                                                       coef    std err          t      P>|t|      [0.025      0.975]\n",
       "--------------------------------------------------------------------------------------------------------------------\n",
       "provided_labels_count                                0.0007   5.45e-05     11.944      0.000       0.001       0.001\n",
       "token_count_avg_entropy_a1                          -0.1664      0.052     -3.185      0.002      -0.271      -0.061\n",
       "intercept                                            0.1044      0.033      3.131      0.003       0.037       0.171\n",
       "token_count_avg_entropy_a1^2                         0.0636      0.020      3.175      0.003       0.023       0.104\n",
       "provided_labels_count*token_count_avg_entropy_a1    -0.0003   3.88e-05     -8.514      0.000      -0.000      -0.000\n",
       "==============================================================================\n",
       "Omnibus:                        0.200   Durbin-Watson:                   1.905\n",
       "Prob(Omnibus):                  0.905   Jarque-Bera (JB):                0.288\n",
       "Skew:                           0.132   Prob(JB):                        0.866\n",
       "Kurtosis:                       2.769   Cond. No.                     1.06e+04\n",
       "==============================================================================\n",
       "\n",
       "Warnings:\n",
       "[1] Standard Errors assume that the covariance matrix of the errors is correctly specified.\n",
       "[2] The condition number is large, 1.06e+04. This might indicate that there are\n",
       "strong multicollinearity or other numerical problems.\n",
       "\"\"\""
      ]
     },
     "execution_count": 28,
     "metadata": {},
     "output_type": "execute_result"
    }
   ],
   "source": [
    "X_linear_df = X_df[['provided_labels_count', 'token_count_avg_entropy_a1']].assign(intercept=1)\n",
    "X_linear_df['token_count_avg_entropy_a1^2'] = X_linear_df['token_count_avg_entropy_a1'] ** 2\n",
    "X_linear_df['provided_labels_count*token_count_avg_entropy_a1'] = \\\n",
    "    X_linear_df['provided_labels_count'] * X_linear_df['token_count_avg_entropy_a1']\n",
    "\n",
    "ols = sm.OLS(y_df, X_linear_df)\n",
    "results = ols.fit()\n",
    "results.summary()"
   ]
  },
  {
   "cell_type": "markdown",
   "metadata": {},
   "source": [
    "# Validity Checks"
   ]
  },
  {
   "cell_type": "code",
   "execution_count": 29,
   "metadata": {},
   "outputs": [
    {
     "data": {
      "text/html": [
       "<div>\n",
       "<style scoped>\n",
       "    .dataframe tbody tr th:only-of-type {\n",
       "        vertical-align: middle;\n",
       "    }\n",
       "\n",
       "    .dataframe tbody tr th {\n",
       "        vertical-align: top;\n",
       "    }\n",
       "\n",
       "    .dataframe thead th {\n",
       "        text-align: right;\n",
       "    }\n",
       "</style>\n",
       "<table border=\"1\" class=\"dataframe\">\n",
       "  <thead>\n",
       "    <tr style=\"text-align: right;\">\n",
       "      <th></th>\n",
       "      <th>VIF Factor</th>\n",
       "      <th>features</th>\n",
       "    </tr>\n",
       "  </thead>\n",
       "  <tbody>\n",
       "    <tr>\n",
       "      <td>0</td>\n",
       "      <td>2.582608</td>\n",
       "      <td>provided_labels_count</td>\n",
       "    </tr>\n",
       "    <tr>\n",
       "      <td>1</td>\n",
       "      <td>2.582608</td>\n",
       "      <td>token_count_avg_entropy_a1</td>\n",
       "    </tr>\n",
       "  </tbody>\n",
       "</table>\n",
       "</div>"
      ],
      "text/plain": [
       "   VIF Factor                    features\n",
       "0    2.582608       provided_labels_count\n",
       "1    2.582608  token_count_avg_entropy_a1"
      ]
     },
     "execution_count": 29,
     "metadata": {},
     "output_type": "execute_result"
    }
   ],
   "source": [
    "X_linear_vif_df = X_linear_df[['provided_labels_count', 'token_count_avg_entropy_a1']]\n",
    "p = X_linear_vif_df.shape[1]\n",
    "vif_df = pd.DataFrame()\n",
    "vif_df['VIF Factor'] = [vif(X_linear_vif_df.values, i) for i in range(p)]\n",
    "vif_df['features'] = X_linear_vif_df.columns\n",
    "vif_df"
   ]
  },
  {
   "cell_type": "code",
   "execution_count": 30,
   "metadata": {},
   "outputs": [
    {
     "name": "stdout",
     "output_type": "stream",
     "text": [
      "Shapiro-Wilk test p-value: 0.6946910619735718\n"
     ]
    },
    {
     "data": {
      "image/png": "[encoded data removed]",
      "text/plain": [
       "<Figure size 432x288 with 1 Axes>"
      ]
     },
     "metadata": {
      "needs_background": "light"
     },
     "output_type": "display_data"
    }
   ],
   "source": [
    "sm.qqplot(results.resid, line='s')\n",
    "plt.grid()\n",
    "plt.plot()\n",
    "_, p = stats.shapiro(results.resid)\n",
    "print('Shapiro-Wilk test p-value: {}'.format(p))"
   ]
  },
  {
   "cell_type": "code",
   "execution_count": 31,
   "metadata": {},
   "outputs": [
    {
     "data": {
      "image/png": "[encoded data removed]",
      "text/plain": [
       "<Figure size 432x288 with 1 Axes>"
      ]
     },
     "metadata": {
      "needs_background": "light"
     },
     "output_type": "display_data"
    }
   ],
   "source": [
    "results.resid\n",
    "plt.scatter(y_df, results.resid)\n",
    "plt.xlabel('Response')\n",
    "plt.ylabel('Residual')\n",
    "plt.grid()\n",
    "plt.show()"
   ]
  }
 ],
 "metadata": {
  "kernelspec": {
   "display_name": "Python 3",
   "language": "python",
   "name": "python3"
  },
  "language_info": {
   "codemirror_mode": {
    "name": "ipython",
    "version": 3
   },
   "file_extension": ".py",
   "mimetype": "text/x-python",
   "name": "python",
   "nbconvert_exporter": "python",
   "pygments_lexer": "ipython3",
   "version": "3.7.4"
  }
 },
 "nbformat": 4,
 "nbformat_minor": 2
}
