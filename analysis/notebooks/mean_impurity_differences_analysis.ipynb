{
 "cells": [
  {
   "cell_type": "code",
   "execution_count": null,
   "metadata": {},
   "outputs": [],
   "source": [
    "import sys; sys.path.append('../../')\n",
    "import numpy as np\n",
    "import pandas as pd\n",
    "import xgboost as xgb\n",
    "import statsmodels.api as sm\n",
    "import matplotlib.pyplot as plt\n",
    "import statsmodels.graphics.api as smg\n",
    "from warnings import filterwarnings\n",
    "from scipy import stats\n",
    "from scipy.stats import loguniform\n",
    "from sklearn.model_selection import RandomizedSearchCV\n",
    "from sklearn.linear_model import Lasso, LinearRegression\n",
    "from sklearn.model_selection import cross_val_score\n",
    "from sklearn.pipeline import make_pipeline, Pipeline\n",
    "from sklearn.preprocessing import StandardScaler\n",
    "from analysis.constants import VOCAB_SIZE\n",
    "from graphs.utils import plot_morris_method_graph\n",
    "from analysis.utils import get_sa_problem\n",
    "from SALib.sample.morris import sample\n",
    "from SALib.analyze.morris import analyze\n",
    "from statsmodels.stats.outliers_influence import variance_inflation_factor as vif\n",
    "\n",
    "filterwarnings('ignore')"
   ]
  },
  {
   "cell_type": "markdown",
   "metadata": {},
   "source": [
    "# Data Initialization"
   ]
  },
  {
   "cell_type": "code",
   "execution_count": null,
   "metadata": {},
   "outputs": [],
   "source": [
    "DATASET_PROPERTIES_PATH = r'..\\..\\results\\dataset_properties.csv'\n",
    "IMPURITY_DIFF_PATH = r'..\\..\\results\\impurity_differences.csv'"
   ]
  },
  {
   "cell_type": "code",
   "execution_count": null,
   "metadata": {},
   "outputs": [],
   "source": [
    "dataset_properties_df = pd.read_csv(DATASET_PROPERTIES_PATH)\n",
    "dataset_properties_df"
   ]
  },
  {
   "cell_type": "code",
   "execution_count": null,
   "metadata": {},
   "outputs": [],
   "source": [
    "impurity_differences_df = pd.read_csv(IMPURITY_DIFF_PATH)\n",
    "impurity_differences_df.head()"
   ]
  },
  {
   "cell_type": "code",
   "execution_count": null,
   "metadata": {},
   "outputs": [],
   "source": [
    "data_df = impurity_differences_df.merge(dataset_properties_df, on='name')\n",
    "data_df = data_df.sample(frac=1)\n",
    "X_df = data_df.drop(['name', 'impurity_mean_diff'], axis=1)\n",
    "y_df = data_df[['impurity_mean_diff']]"
   ]
  },
  {
   "cell_type": "markdown",
   "metadata": {},
   "source": [
    "# Data Plots"
   ]
  },
  {
   "cell_type": "code",
   "execution_count": null,
   "metadata": {},
   "outputs": [],
   "source": [
    "corr_scores_df = dataset_properties_df[['silhouette_score', 'calinski_harabasz_score', 'davies_bouldin_score']]\n",
    "corr_scores_df['custom_score'] = (dataset_properties_df['inter_cluster_spread'] \n",
    "                                  / dataset_properties_df['intra_cluster_spread']).reset_index(drop=True)\n",
    "corr_scores_df = corr_scores_df[corr_scores_df['custom_score'] != np.inf]\n",
    "\n",
    "corr_scores_matrix = np.corrcoef(corr_scores_df.T)\n",
    "smg.plot_corr(corr_scores_matrix, corr_scores_df.columns)\n",
    "plt.show()"
   ]
  },
  {
   "cell_type": "code",
   "execution_count": null,
   "metadata": {},
   "outputs": [],
   "source": [
    "corr_df = pd.concat([X_df, y_df], axis=1).reset_index(drop=True)\n",
    "corr_matrix_base = np.corrcoef(corr_df.T)\n",
    "smg.plot_corr(corr_matrix_base, corr_df.columns)\n",
    "plt.show()"
   ]
  },
  {
   "cell_type": "markdown",
   "metadata": {},
   "source": [
    "# Sensitivity Analysis"
   ]
  },
  {
   "cell_type": "code",
   "execution_count": null,
   "metadata": {},
   "outputs": [],
   "source": [
    "X_train_dmatrix = xgb.DMatrix(X_df, y_df)\n",
    "\n",
    "num_round = 50\n",
    "param = {'max_depth':6, 'objective':'reg:squarederror' }\n",
    "bst = xgb.train(param, X_train_dmatrix, num_round)"
   ]
  },
  {
   "cell_type": "code",
   "execution_count": null,
   "metadata": {},
   "outputs": [],
   "source": [
    "problem = get_sa_problem(X_df)\n",
    "inputs = sample(problem, 1000, num_levels=4)\n",
    "\n",
    "X_morris_df = pd.DataFrame(inputs, columns=X_df.columns)\n",
    "X_morris_dmatrix = xgb.DMatrix(X_morris_df)\n",
    "results = bst.predict(X_morris_dmatrix)\n",
    "\n",
    "sensitivity_indices = \\\n",
    "    analyze(problem,\n",
    "            inputs,\n",
    "            results,\n",
    "            conf_level=0.95,\n",
    "            num_levels=5)\n",
    "\n",
    "plot_morris_method_graph(sensitivity_indices, 'Impurity Differences')\n",
    "plt.show()"
   ]
  },
  {
   "cell_type": "code",
   "execution_count": null,
   "metadata": {},
   "outputs": [],
   "source": [
    "bst_model = xgb.XGBRegressor(max_depth=6, num_round=50)\n",
    "bst_scores = cross_val_score(bst_model, X_df, y_df, cv=10, scoring='neg_mean_squared_error')\n",
    "bst_scores.mean()"
   ]
  },
  {
   "cell_type": "markdown",
   "metadata": {},
   "source": [
    "# Lasso"
   ]
  },
  {
   "cell_type": "code",
   "execution_count": null,
   "metadata": {},
   "outputs": [],
   "source": [
    "pipe = make_pipeline(StandardScaler(), Lasso())\n",
    "\n",
    "param_dist = {'lasso__alpha': loguniform(1e-4, 2)}\n",
    "random_search = RandomizedSearchCV(pipe, scoring = 'neg_mean_squared_error', \n",
    "                                   param_distributions=param_dist,\n",
    "                                   n_iter=1000, cv=10, verbose=True)\n",
    "\n",
    "random_search.fit(X_df, y_df)\n",
    "random_search.best_params_"
   ]
  },
  {
   "cell_type": "code",
   "execution_count": null,
   "metadata": {},
   "outputs": [],
   "source": [
    "data = {\n",
    "    'coef_names': X_df.columns,\n",
    "    'coef_values': random_search.best_estimator_['lasso'].coef_,\n",
    "}\n",
    "\n",
    "coef_df = pd.DataFrame(data)\n",
    "coef_df"
   ]
  },
  {
   "cell_type": "markdown",
   "metadata": {},
   "source": [
    "# OLS"
   ]
  },
  {
   "cell_type": "code",
   "execution_count": null,
   "metadata": {},
   "outputs": [],
   "source": [
    "X_linear_df = X_df[['provided_labels_count', 'token_count_avg_entropy_a1']].assign(intercept=1)\n",
    "X_linear_df['token_count_avg_entropy_a1^2'] = X_linear_df['token_count_avg_entropy_a1'] ** 2\n",
    "X_linear_df['provided_labels_count*token_count_avg_entropy_a1'] = \\\n",
    "    X_linear_df['provided_labels_count'] * X_linear_df['token_count_avg_entropy_a1']\n",
    "\n",
    "ols = sm.OLS(y_df, X_linear_df)\n",
    "results = ols.fit()\n",
    "results.summary()"
   ]
  },
  {
   "cell_type": "markdown",
   "metadata": {},
   "source": [
    "# Validity Checks"
   ]
  },
  {
   "cell_type": "code",
   "execution_count": null,
   "metadata": {},
   "outputs": [],
   "source": [
    "X_linear_vif_df = X_linear_df[['provided_labels_count', 'token_count_avg_entropy_a1']]\n",
    "p = X_linear_vif_df.shape[1]\n",
    "vif_df = pd.DataFrame()\n",
    "vif_df['VIF Factor'] = [vif(X_linear_vif_df.values, i) for i in range(p)]\n",
    "vif_df['features'] = X_linear_vif_df.columns\n",
    "vif_df"
   ]
  },
  {
   "cell_type": "code",
   "execution_count": null,
   "metadata": {},
   "outputs": [],
   "source": [
    "sm.qqplot(results.resid, line='s')\n",
    "plt.grid()\n",
    "plt.plot()\n",
    "_, p = stats.shapiro(results.resid)\n",
    "print('Shapiro-Wilk test p-value: {}'.format(p))"
   ]
  },
  {
   "cell_type": "code",
   "execution_count": null,
   "metadata": {},
   "outputs": [],
   "source": [
    "results.resid\n",
    "plt.scatter(y_df, results.resid)\n",
    "plt.xlabel('Response')\n",
    "plt.ylabel('Residual')\n",
    "plt.grid()\n",
    "plt.show()"
   ]
  }
 ],
 "metadata": {
  "kernelspec": {
   "display_name": "Python 3",
   "language": "python",
   "name": "python3"
  },
  "language_info": {
   "codemirror_mode": {
    "name": "ipython",
    "version": 3
   },
   "file_extension": ".py",
   "mimetype": "text/x-python",
   "name": "python",
   "nbconvert_exporter": "python",
   "pygments_lexer": "ipython3",
   "version": "3.7.4"
  }
 },
 "nbformat": 4,
 "nbformat_minor": 2
}
